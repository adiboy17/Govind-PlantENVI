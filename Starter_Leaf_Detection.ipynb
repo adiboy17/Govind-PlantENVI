{
  "nbformat": 4,
  "nbformat_minor": 0,
  "metadata": {
    "colab": {
      "name": "Starter: Leaf Detection.ipynb",
      "provenance": []
    },
    "kernelspec": {
      "name": "python3",
      "display_name": "Python 3"
    }
  },
  "cells": [
    {
      "cell_type": "code",
      "metadata": {
        "colab": {
          "base_uri": "https://localhost:8080/",
          "height": 391
        },
        "id": "b8dojz-bWq2K",
        "outputId": "1f8fa436-1d5f-450c-db47-6a95742abc22"
      },
      "source": [
        "# We need to pip install these two versions because it gives me some errors otherwise\r\n",
        "\r\n",
        "# This can take some time\r\n",
        "\r\n",
        "!pip install \"torch==1.4\" \"torchvision==0.5.0\""
      ],
      "execution_count": null,
      "outputs": [
        {
          "output_type": "stream",
          "text": [
            "Collecting torch==1.4\n",
            "\u001b[?25l  Downloading https://files.pythonhosted.org/packages/24/19/4804aea17cd136f1705a5e98a00618cb8f6ccc375ad8bfa437408e09d058/torch-1.4.0-cp36-cp36m-manylinux1_x86_64.whl (753.4MB)\n",
            "\u001b[K     |████████████████████████████████| 753.4MB 19kB/s \n",
            "\u001b[?25hCollecting torchvision==0.5.0\n",
            "\u001b[?25l  Downloading https://files.pythonhosted.org/packages/7e/90/6141bf41f5655c78e24f40f710fdd4f8a8aff6c8b7c6f0328240f649bdbe/torchvision-0.5.0-cp36-cp36m-manylinux1_x86_64.whl (4.0MB)\n",
            "\u001b[K     |████████████████████████████████| 4.0MB 36.3MB/s \n",
            "\u001b[?25hRequirement already satisfied: pillow>=4.1.1 in /usr/local/lib/python3.6/dist-packages (from torchvision==0.5.0) (7.0.0)\n",
            "Requirement already satisfied: six in /usr/local/lib/python3.6/dist-packages (from torchvision==0.5.0) (1.15.0)\n",
            "Requirement already satisfied: numpy in /usr/local/lib/python3.6/dist-packages (from torchvision==0.5.0) (1.19.5)\n",
            "Installing collected packages: torch, torchvision\n",
            "  Found existing installation: torch 1.7.0+cu101\n",
            "    Uninstalling torch-1.7.0+cu101:\n",
            "      Successfully uninstalled torch-1.7.0+cu101\n",
            "  Found existing installation: torchvision 0.8.1+cu101\n",
            "    Uninstalling torchvision-0.8.1+cu101:\n",
            "      Successfully uninstalled torchvision-0.8.1+cu101\n",
            "Successfully installed torch-1.4.0 torchvision-0.5.0\n"
          ],
          "name": "stdout"
        },
        {
          "output_type": "display_data",
          "data": {
            "application/vnd.colab-display-data+json": {
              "pip_warning": {
                "packages": [
                  "torch",
                  "torchvision"
                ]
              }
            }
          },
          "metadata": {
            "tags": []
          }
        }
      ]
    },
    {
      "cell_type": "code",
      "metadata": {
        "colab": {
          "base_uri": "https://localhost:8080/"
        },
        "id": "TKvqVu26ade-",
        "outputId": "24664ad6-9ac8-42c1-c9cd-c926ff78f10d"
      },
      "source": [
        "from google.colab import drive\r\n",
        "drive.mount(\"/content/gdrive\")"
      ],
      "execution_count": null,
      "outputs": [
        {
          "output_type": "stream",
          "text": [
            "Mounted at /content/gdrive\n"
          ],
          "name": "stdout"
        }
      ]
    },
    {
      "cell_type": "code",
      "metadata": {
        "colab": {
          "base_uri": "https://localhost:8080/"
        },
        "id": "0J8vflmDcAxv",
        "outputId": "329c5245-ff70-46f9-facd-c05b347638a7"
      },
      "source": [
        "!ls \"/content/gdrive/MyDrive/Mango/mangoimg/smallplant\""
      ],
      "execution_count": null,
      "outputs": [
        {
          "output_type": "stream",
          "text": [
            " 22309112_112df74058_z.jpg\n",
            " 53bf64ddac86d20cdaf21296bc92ecd5.jpg\n",
            " ac42c5bed35e2c8f115508b4d1434510.jpg\n",
            "'Avocado, Avocadobaum züchten – Pflanzen und Pflege - Outdoor Ideas.jpg'\n",
            "'How To Grow A Mango Tree From Seed.jpg'\n",
            "'How to Grow a Mango Tree.jpg'\n",
            "'How to Grow Mango from Seed (Easy Method) _ Empress of Dirt.jpg'\n",
            "'How to Grow Mango from Seed (Easy Method) _ Empress of.jpg'\n",
            " IMG_4839.JPG\n",
            "'kesar-mango-tree-plants-1996573 (1).jpg'\n",
            " kesar-mango-tree-plants-1996573.jpg\n",
            " LEAF-7106-1.jpg\n",
            " manggo02_600x712.png\n",
            "'Mangobaum selber ziehen.jpg'\n",
            " mango-pit.jpg\n",
            " mango-plant-1501571897-3184199.jpeg\n",
            " mango-plant-500x500.jpg\n",
            " mango-plant-green-leaves-flowerpot-white-background-137784517.jpg\n",
            " mango-plant-green-leaves-flowerpot-white-background-138318881.jpg\n",
            " mango-pot.jpg\n",
            " mango-r2e2-seedling-5857.jpeg\n",
            " mango-seedling.jpg\n",
            "'Mango tree bonsai.jpg'\n",
            " mango-tree-in-pot.jpg\n",
            "'mango tree.jpg'\n",
            "'Mango Tree Pruning _ How To Train A Mango Tree.jpg'\n",
            " mango-tree-seedling.jpg\n",
            " mango-tree-small-mango-tree-mango-seedlings-isolated-white-background-mango-tree-small-mango-tree-mango-seedlings-isolated-119176007.jpg\n",
            "'Modern Resume Template for MS Word _ Professional CV Design _ Teacher CV Template Design _ Modern Resume _ Instant Download _ Easter Megan.jpg'\n",
            "'My mango plant grown from seed.jpg'\n",
            " OIP.jfif\n",
            " R04d953370d1ac258e1cbdbc9c63a1886.jfif\n",
            " R26daad2eaf0477f1fed41697d2655b85.jfif\n",
            " R7e389b613ce337c0b6a546eca68079d7.jfif\n",
            " Small-Egg-Mango-plant.jpg\n",
            "'small-mango-tree-garden-agriculture-35127046 (1).jpg'\n",
            " small-mango-tree-garden-agriculture-35127046.jpg\n"
          ],
          "name": "stdout"
        }
      ]
    },
    {
      "cell_type": "code",
      "metadata": {
        "id": "3cDqokrgm3FC"
      },
      "source": [
        "import os\r\n",
        "os.environ['KAGGLE_CONFIG_DIR'] = \"/content/gdrive/My Drive/Kaggle\"\r\n",
        "# /content/gdrive/My Drive/Kaggle is the path where kaggle.json is present in the Google Drive"
      ],
      "execution_count": null,
      "outputs": []
    },
    {
      "cell_type": "code",
      "metadata": {
        "colab": {
          "base_uri": "https://localhost:8080/"
        },
        "id": "RVRzTiZCm-th",
        "outputId": "c341a41d-ca34-4cfd-8b81-7d30d49db635"
      },
      "source": [
        "#changing the working directory\r\n",
        "%cd /content/gdrive/My Drive/Kaggle\r\n",
        "#Check the present working directory using pwd command"
      ],
      "execution_count": null,
      "outputs": [
        {
          "output_type": "stream",
          "text": [
            "/content/gdrive/My Drive/Kaggle\n"
          ],
          "name": "stdout"
        }
      ]
    },
    {
      "cell_type": "code",
      "metadata": {
        "colab": {
          "base_uri": "https://localhost:8080/"
        },
        "id": "QcaeCHF9nZDb",
        "outputId": "3e729c55-f8bb-4e58-e272-9491c697d78a"
      },
      "source": [
        "!kaggle datasets download -d alexo98/leaf-detection"
      ],
      "execution_count": null,
      "outputs": [
        {
          "output_type": "stream",
          "text": [
            "leaf-detection.zip: Skipping, found more recently modified local copy (use --force to force download)\n"
          ],
          "name": "stdout"
        }
      ]
    },
    {
      "cell_type": "code",
      "metadata": {
        "colab": {
          "base_uri": "https://localhost:8080/"
        },
        "id": "52_K61KMWzFC",
        "outputId": "f9bac061-eae2-4fe7-e875-e91814e060bd"
      },
      "source": [
        "import pandas as pd\r\n",
        "import numpy as np\r\n",
        "import cv2\r\n",
        "import os\r\n",
        "import re\r\n",
        "from PIL import Image\r\n",
        "import time\r\n",
        "!pip install albumentations==0.4.6 \r\n",
        "import albumentations as A\r\n",
        "from albumentations.pytorch.transforms import ToTensorV2\r\n",
        "from albumentations.pytorch import transforms\r\n",
        "\r\n",
        "import torch\r\n",
        "import torchvision\r\n",
        "\r\n",
        "from torchvision.models.detection.faster_rcnn import FastRCNNPredictor\r\n",
        "from torchvision.models.detection import FasterRCNN\r\n",
        "from torchvision.models.detection.rpn import AnchorGenerator\r\n",
        "\r\n",
        "from torch.utils.data import DataLoader, Dataset\r\n",
        "from torch.utils.data.sampler import SequentialSampler\r\n",
        "\r\n",
        "from matplotlib import pyplot as plt\r\n",
        "\r\n",
        "\r\n",
        "DIR_INPUT = '/content/gdrive/MyDrive/Kaggle'\r\n",
        "DIR_TRAIN = f'{DIR_INPUT}/train'\r\n",
        "DIR_TEST = f'{DIR_INPUT}/test'\r\n",
        "\r\n",
        "# Loading the device now\r\n",
        "device = torch.device('cuda') if torch.cuda.is_available() else torch.device('cpu')\r\n"
      ],
      "execution_count": null,
      "outputs": [
        {
          "output_type": "stream",
          "text": [
            "Collecting albumentations==0.4.6\n",
            "\u001b[?25l  Downloading https://files.pythonhosted.org/packages/92/33/1c459c2c9a4028ec75527eff88bc4e2d256555189f42af4baf4d7bd89233/albumentations-0.4.6.tar.gz (117kB)\n",
            "\u001b[K     |████████████████████████████████| 122kB 9.5MB/s \n",
            "\u001b[?25hRequirement already satisfied: numpy>=1.11.1 in /usr/local/lib/python3.6/dist-packages (from albumentations==0.4.6) (1.19.5)\n",
            "Requirement already satisfied: scipy in /usr/local/lib/python3.6/dist-packages (from albumentations==0.4.6) (1.4.1)\n",
            "Collecting imgaug>=0.4.0\n",
            "\u001b[?25l  Downloading https://files.pythonhosted.org/packages/66/b1/af3142c4a85cba6da9f4ebb5ff4e21e2616309552caca5e8acefe9840622/imgaug-0.4.0-py2.py3-none-any.whl (948kB)\n",
            "\u001b[K     |████████████████████████████████| 952kB 14.9MB/s \n",
            "\u001b[?25hRequirement already satisfied: PyYAML in /usr/local/lib/python3.6/dist-packages (from albumentations==0.4.6) (3.13)\n",
            "Requirement already satisfied: opencv-python>=4.1.1 in /usr/local/lib/python3.6/dist-packages (from albumentations==0.4.6) (4.1.2.30)\n",
            "Requirement already satisfied: Pillow in /usr/local/lib/python3.6/dist-packages (from imgaug>=0.4.0->albumentations==0.4.6) (7.0.0)\n",
            "Requirement already satisfied: six in /usr/local/lib/python3.6/dist-packages (from imgaug>=0.4.0->albumentations==0.4.6) (1.15.0)\n",
            "Requirement already satisfied: scikit-image>=0.14.2 in /usr/local/lib/python3.6/dist-packages (from imgaug>=0.4.0->albumentations==0.4.6) (0.16.2)\n",
            "Requirement already satisfied: matplotlib in /usr/local/lib/python3.6/dist-packages (from imgaug>=0.4.0->albumentations==0.4.6) (3.2.2)\n",
            "Requirement already satisfied: Shapely in /usr/local/lib/python3.6/dist-packages (from imgaug>=0.4.0->albumentations==0.4.6) (1.7.1)\n",
            "Requirement already satisfied: imageio in /usr/local/lib/python3.6/dist-packages (from imgaug>=0.4.0->albumentations==0.4.6) (2.4.1)\n",
            "Requirement already satisfied: PyWavelets>=0.4.0 in /usr/local/lib/python3.6/dist-packages (from scikit-image>=0.14.2->imgaug>=0.4.0->albumentations==0.4.6) (1.1.1)\n",
            "Requirement already satisfied: networkx>=2.0 in /usr/local/lib/python3.6/dist-packages (from scikit-image>=0.14.2->imgaug>=0.4.0->albumentations==0.4.6) (2.5)\n",
            "Requirement already satisfied: pyparsing!=2.0.4,!=2.1.2,!=2.1.6,>=2.0.1 in /usr/local/lib/python3.6/dist-packages (from matplotlib->imgaug>=0.4.0->albumentations==0.4.6) (2.4.7)\n",
            "Requirement already satisfied: cycler>=0.10 in /usr/local/lib/python3.6/dist-packages (from matplotlib->imgaug>=0.4.0->albumentations==0.4.6) (0.10.0)\n",
            "Requirement already satisfied: kiwisolver>=1.0.1 in /usr/local/lib/python3.6/dist-packages (from matplotlib->imgaug>=0.4.0->albumentations==0.4.6) (1.3.1)\n",
            "Requirement already satisfied: python-dateutil>=2.1 in /usr/local/lib/python3.6/dist-packages (from matplotlib->imgaug>=0.4.0->albumentations==0.4.6) (2.8.1)\n",
            "Requirement already satisfied: decorator>=4.3.0 in /usr/local/lib/python3.6/dist-packages (from networkx>=2.0->scikit-image>=0.14.2->imgaug>=0.4.0->albumentations==0.4.6) (4.4.2)\n",
            "Building wheels for collected packages: albumentations\n",
            "  Building wheel for albumentations (setup.py) ... \u001b[?25l\u001b[?25hdone\n",
            "  Created wheel for albumentations: filename=albumentations-0.4.6-cp36-none-any.whl size=65164 sha256=42afd38554b62f6334109883f80b4b71c86230f8f77fa5d035bc4aa897f6d0bd\n",
            "  Stored in directory: /root/.cache/pip/wheels/c7/f4/89/56d1bee5c421c36c1a951eeb4adcc32fbb82f5344c086efa14\n",
            "Successfully built albumentations\n",
            "Installing collected packages: imgaug, albumentations\n",
            "  Found existing installation: imgaug 0.2.9\n",
            "    Uninstalling imgaug-0.2.9:\n",
            "      Successfully uninstalled imgaug-0.2.9\n",
            "  Found existing installation: albumentations 0.1.12\n",
            "    Uninstalling albumentations-0.1.12:\n",
            "      Successfully uninstalled albumentations-0.1.12\n",
            "Successfully installed albumentations-0.4.6 imgaug-0.4.0\n"
          ],
          "name": "stdout"
        }
      ]
    },
    {
      "cell_type": "code",
      "metadata": {
        "id": "HQfNAgTirmMV"
      },
      "source": [
        "#!unzip -q \"/content/gdrive/MyDrive/Kaggle/leaf-detection.zip\""
      ],
      "execution_count": null,
      "outputs": []
    },
    {
      "cell_type": "code",
      "metadata": {
        "id": "hyVacCU9YO5-"
      },
      "source": [
        "train_df = pd.read_csv(os.path.join(DIR_INPUT,\"train.csv\"))"
      ],
      "execution_count": null,
      "outputs": []
    },
    {
      "cell_type": "code",
      "metadata": {
        "id": "gup4nbCjgUXM"
      },
      "source": [
        "class LeafDataset(Dataset):\r\n",
        "\r\n",
        "    def __init__(self, dataframe, image_dir, transforms=None):\r\n",
        "        super().__init__()\r\n",
        "\r\n",
        "        self.image_ids = dataframe['image_id'].unique()\r\n",
        "        self.df = dataframe\r\n",
        "        self.image_dir = image_dir\r\n",
        "        self.transforms = transforms\r\n",
        "\r\n",
        "    def __getitem__(self, index: int):\r\n",
        "\r\n",
        "        image_id = self.image_ids[index]\r\n",
        "        records = self.df[self.df['image_id'] == image_id]\r\n",
        "\r\n",
        "        image = cv2.imread(f'{self.image_dir}/{image_id}', cv2.IMREAD_COLOR)                \r\n",
        "#         image = cv2.cvtColor(image, cv2.COLOR_BGR2RGB).astype(np.float32)\r\n",
        "        image = cv2.cvtColor(image, cv2.COLOR_BGR2GRAY).astype(np.float32)\r\n",
        "        image = np.reshape(image,image.shape+(1,))\r\n",
        "        image /= 255.0\r\n",
        "\r\n",
        "        boxes = records[['x', 'y', 'w', 'h']].values\r\n",
        "        boxes[:, 2] = boxes[:, 0] + boxes[:, 2]\r\n",
        "        boxes[:, 3] = boxes[:, 1] + boxes[:, 3]\r\n",
        "        \r\n",
        "        area = (boxes[:, 3] - boxes[:, 1]) * (boxes[:, 2] - boxes[:, 0])\r\n",
        "        area = torch.as_tensor(area, dtype=torch.float32)\r\n",
        "\r\n",
        "        # there is only one class\r\n",
        "        labels = torch.ones((records.shape[0],), dtype=torch.int64)\r\n",
        "        \r\n",
        "        # suppose all instances are not crowd\r\n",
        "        iscrowd = torch.zeros((records.shape[0],), dtype=torch.int64)\r\n",
        "        \r\n",
        "        target = {}\r\n",
        "        target['boxes'] = boxes\r\n",
        "        target['labels'] = labels\r\n",
        "        target['image_id'] = torch.tensor([index])\r\n",
        "        target['area'] = area\r\n",
        "        target['iscrowd'] = iscrowd\r\n",
        "\r\n",
        "        if self.transforms:\r\n",
        "            sample = {\r\n",
        "                'image': image,\r\n",
        "                'bboxes': target['boxes'],\r\n",
        "                'labels': labels\r\n",
        "            }\r\n",
        "            sample = self.transforms(**sample)\r\n",
        "            image = sample['image']\r\n",
        "            \r\n",
        "            target['boxes'] = torch.stack(tuple(map(torch.tensor, zip(*sample['bboxes'])))).permute(1, 0)\r\n",
        "\r\n",
        "        return image, target, image_id\r\n",
        "\r\n",
        "    def __len__(self) -> int:\r\n",
        "        return self.image_ids.shape[0]\r\n"
      ],
      "execution_count": null,
      "outputs": []
    },
    {
      "cell_type": "code",
      "metadata": {
        "id": "MyMAVulhet3z"
      },
      "source": [
        "# This Albumentation for now it is empty.\r\n",
        "def transform():\r\n",
        "    return A.Compose([        \r\n",
        "#         A.Cutout(num_holes=10,max_h_size=15,max_w_size=15,p=1),\r\n",
        "            \r\n",
        "#         A.OneOf([\r\n",
        "#             A.RandomSunFlare(src_radius=200,num_flare_circles_lower=6,num_flare_circles_upper=8,p=1),\r\n",
        "#             A.RandomRain(slant_lower=-10,slant_upper=10,drop_length=20,drop_width=1,p=1),\r\n",
        "#             A.RandomFog(fog_coef_lower=0.05, fog_coef_upper=0.1, alpha_coef=0.08, p=1),  \r\n",
        "#         ], p=1),\r\n",
        "#         A.OneOf([\r\n",
        "#             A.RandomBrightnessContrast(brightness_limit=0.2, contrast_limit=0.2, brightness_by_max=True, p=1),\r\n",
        "#             A.RandomGamma(gamma_limit=(80,165),p=1),  \r\n",
        "#         ], p=1),      \r\n",
        "        ToTensorV2(p=1.0),\r\n",
        "    ], bbox_params={'format': 'pascal_voc', 'label_fields': ['labels']})\r\n",
        "\r\n",
        "\r\n",
        "def collate_fn(batch):\r\n",
        "    return tuple(zip(*batch))\r\n"
      ],
      "execution_count": null,
      "outputs": []
    },
    {
      "cell_type": "code",
      "metadata": {
        "id": "RFpksAdggcR0",
        "colab": {
          "base_uri": "https://localhost:8080/",
          "height": 231
        },
        "outputId": "90d50bec-4f8e-4bd4-9b1a-e74a53deb0a7"
      },
      "source": [
        "train_dataset = LeafDataset(train_df, DIR_TRAIN, transform())\r\n",
        "valid_dataset = LeafDataset(valid_df, DIR_TRAIN, transform())\r\n",
        "\r\n",
        "\r\n",
        "train_data_loader = DataLoader(\r\n",
        "    train_dataset,\r\n",
        "    batch_size=16,\r\n",
        "    shuffle=False,\r\n",
        "    num_workers=4,\r\n",
        "    collate_fn=collate_fn\r\n",
        ")\r\n",
        "\r\n",
        "valid_data_loader = DataLoader(\r\n",
        "    valid_dataset,\r\n",
        "    batch_size=1,\r\n",
        "    shuffle=False,\r\n",
        "    num_workers=4,\r\n",
        "    collate_fn=collate_fn\r\n",
        ")"
      ],
      "execution_count": null,
      "outputs": [
        {
          "output_type": "error",
          "ename": "NameError",
          "evalue": "ignored",
          "traceback": [
            "\u001b[0;31m---------------------------------------------------------------------------\u001b[0m",
            "\u001b[0;31mNameError\u001b[0m                                 Traceback (most recent call last)",
            "\u001b[0;32m<ipython-input-13-7c5682887af8>\u001b[0m in \u001b[0;36m<module>\u001b[0;34m()\u001b[0m\n\u001b[1;32m      1\u001b[0m \u001b[0mtrain_dataset\u001b[0m \u001b[0;34m=\u001b[0m \u001b[0mLeafDataset\u001b[0m\u001b[0;34m(\u001b[0m\u001b[0mtrain_df\u001b[0m\u001b[0;34m,\u001b[0m \u001b[0mDIR_TRAIN\u001b[0m\u001b[0;34m,\u001b[0m \u001b[0mtransform\u001b[0m\u001b[0;34m(\u001b[0m\u001b[0;34m)\u001b[0m\u001b[0;34m)\u001b[0m\u001b[0;34m\u001b[0m\u001b[0;34m\u001b[0m\u001b[0m\n\u001b[0;32m----> 2\u001b[0;31m \u001b[0mvalid_dataset\u001b[0m \u001b[0;34m=\u001b[0m \u001b[0mLeafDataset\u001b[0m\u001b[0;34m(\u001b[0m\u001b[0mvalid_df\u001b[0m\u001b[0;34m,\u001b[0m \u001b[0mDIR_TRAIN\u001b[0m\u001b[0;34m,\u001b[0m \u001b[0mtransform\u001b[0m\u001b[0;34m(\u001b[0m\u001b[0;34m)\u001b[0m\u001b[0;34m)\u001b[0m\u001b[0;34m\u001b[0m\u001b[0;34m\u001b[0m\u001b[0m\n\u001b[0m\u001b[1;32m      3\u001b[0m \u001b[0;34m\u001b[0m\u001b[0m\n\u001b[1;32m      4\u001b[0m \u001b[0;34m\u001b[0m\u001b[0m\n\u001b[1;32m      5\u001b[0m train_data_loader = DataLoader(\n",
            "\u001b[0;31mNameError\u001b[0m: name 'valid_df' is not defined"
          ]
        }
      ]
    },
    {
      "cell_type": "code",
      "metadata": {
        "id": "WcCIbvRaghHi",
        "colab": {
          "base_uri": "https://localhost:8080/"
        },
        "outputId": "29901908-2a9c-492d-d072-330eb7b29691"
      },
      "source": [
        "!pip install albumentations==0.4.6\r\n",
        "from albumentations.pytorch.transforms import ToTensorV2\r\n",
        "# This Albumentation for now it is empty.\r\n",
        "def transform():\r\n",
        "    return A.Compose([        \r\n",
        "#         A.Cutout(num_holes=10,max_h_size=15,max_w_size=15,p=1),\r\n",
        "            \r\n",
        "#         A.OneOf([\r\n",
        "#             A.RandomSunFlare(src_radius=200,num_flare_circles_lower=6,num_flare_circles_upper=8,p=1),\r\n",
        "#             A.RandomRain(slant_lower=-10,slant_upper=10,drop_length=20,drop_width=1,p=1),\r\n",
        "#             A.RandomFog(fog_coef_lower=0.05, fog_coef_upper=0.1, alpha_coef=0.08, p=1),  \r\n",
        "#         ], p=1),\r\n",
        "#         A.OneOf([\r\n",
        "#             A.RandomBrightnessContrast(brightness_limit=0.2, contrast_limit=0.2, brightness_by_max=True, p=1),\r\n",
        "#             A.RandomGamma(gamma_limit=(80,165),p=1),  \r\n",
        "#         ], p=1),      \r\n",
        "        ToTensorV2(p=1.0),\r\n",
        "    ], bbox_params={'format': 'pascal_voc', 'label_fields': ['labels']})\r\n",
        "\r\n",
        "\r\n",
        "def collate_fn(batch):\r\n",
        "    return tuple(zip(*batch))"
      ],
      "execution_count": null,
      "outputs": [
        {
          "output_type": "stream",
          "text": [
            "Requirement already satisfied: albumentations==0.4.6 in /usr/local/lib/python3.6/dist-packages (0.4.6)\n",
            "Requirement already satisfied: numpy>=1.11.1 in /usr/local/lib/python3.6/dist-packages (from albumentations==0.4.6) (1.19.5)\n",
            "Requirement already satisfied: opencv-python>=4.1.1 in /usr/local/lib/python3.6/dist-packages (from albumentations==0.4.6) (4.1.2.30)\n",
            "Requirement already satisfied: imgaug>=0.4.0 in /usr/local/lib/python3.6/dist-packages (from albumentations==0.4.6) (0.4.0)\n",
            "Requirement already satisfied: scipy in /usr/local/lib/python3.6/dist-packages (from albumentations==0.4.6) (1.4.1)\n",
            "Requirement already satisfied: PyYAML in /usr/local/lib/python3.6/dist-packages (from albumentations==0.4.6) (3.13)\n",
            "Requirement already satisfied: matplotlib in /usr/local/lib/python3.6/dist-packages (from imgaug>=0.4.0->albumentations==0.4.6) (3.2.2)\n",
            "Requirement already satisfied: Pillow in /usr/local/lib/python3.6/dist-packages (from imgaug>=0.4.0->albumentations==0.4.6) (7.0.0)\n",
            "Requirement already satisfied: imageio in /usr/local/lib/python3.6/dist-packages (from imgaug>=0.4.0->albumentations==0.4.6) (2.4.1)\n",
            "Requirement already satisfied: six in /usr/local/lib/python3.6/dist-packages (from imgaug>=0.4.0->albumentations==0.4.6) (1.15.0)\n",
            "Requirement already satisfied: Shapely in /usr/local/lib/python3.6/dist-packages (from imgaug>=0.4.0->albumentations==0.4.6) (1.7.1)\n",
            "Requirement already satisfied: scikit-image>=0.14.2 in /usr/local/lib/python3.6/dist-packages (from imgaug>=0.4.0->albumentations==0.4.6) (0.16.2)\n",
            "Requirement already satisfied: python-dateutil>=2.1 in /usr/local/lib/python3.6/dist-packages (from matplotlib->imgaug>=0.4.0->albumentations==0.4.6) (2.8.1)\n",
            "Requirement already satisfied: pyparsing!=2.0.4,!=2.1.2,!=2.1.6,>=2.0.1 in /usr/local/lib/python3.6/dist-packages (from matplotlib->imgaug>=0.4.0->albumentations==0.4.6) (2.4.7)\n",
            "Requirement already satisfied: cycler>=0.10 in /usr/local/lib/python3.6/dist-packages (from matplotlib->imgaug>=0.4.0->albumentations==0.4.6) (0.10.0)\n",
            "Requirement already satisfied: kiwisolver>=1.0.1 in /usr/local/lib/python3.6/dist-packages (from matplotlib->imgaug>=0.4.0->albumentations==0.4.6) (1.3.1)\n",
            "Requirement already satisfied: PyWavelets>=0.4.0 in /usr/local/lib/python3.6/dist-packages (from scikit-image>=0.14.2->imgaug>=0.4.0->albumentations==0.4.6) (1.1.1)\n",
            "Requirement already satisfied: networkx>=2.0 in /usr/local/lib/python3.6/dist-packages (from scikit-image>=0.14.2->imgaug>=0.4.0->albumentations==0.4.6) (2.5)\n",
            "Requirement already satisfied: decorator>=4.3.0 in /usr/local/lib/python3.6/dist-packages (from networkx>=2.0->scikit-image>=0.14.2->imgaug>=0.4.0->albumentations==0.4.6) (4.4.2)\n"
          ],
          "name": "stdout"
        }
      ]
    },
    {
      "cell_type": "code",
      "metadata": {
        "id": "OemKaD6SS-i-"
      },
      "source": [
        ""
      ],
      "execution_count": null,
      "outputs": []
    }
  ]
}