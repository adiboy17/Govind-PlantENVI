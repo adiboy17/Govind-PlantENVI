{
  "nbformat": 4,
  "nbformat_minor": 0,
  "metadata": {
    "colab": {
      "name": "plantgrowth.ipynb",
      "provenance": []
    },
    "kernelspec": {
      "name": "python3",
      "display_name": "Python 3"
    }
  },
  "cells": [
    {
      "cell_type": "code",
      "metadata": {
        "id": "iP94JgkPqHy4",
        "colab": {
          "base_uri": "https://localhost:8080/",
          "height": 34
        },
        "outputId": "a1a4e18b-4729-45b7-bdcd-1502783620a2"
      },
      "source": [
        "pip install argparse"
      ],
      "execution_count": null,
      "outputs": [
        {
          "output_type": "stream",
          "text": [
            "Requirement already satisfied: argparse in /usr/local/lib/python3.6/dist-packages (1.4.0)\n"
          ],
          "name": "stdout"
        }
      ]
    },
    {
      "cell_type": "code",
      "metadata": {
        "id": "da2Oby7-pirw",
        "colab": {
          "base_uri": "https://localhost:8080/",
          "height": 34
        },
        "outputId": "4d10dd48-99b0-4005-988d-940ab7e1aee2"
      },
      "source": [
        "pip install imutils"
      ],
      "execution_count": null,
      "outputs": [
        {
          "output_type": "stream",
          "text": [
            "Requirement already satisfied: imutils in /usr/local/lib/python3.6/dist-packages (0.5.3)\n"
          ],
          "name": "stdout"
        }
      ]
    },
    {
      "cell_type": "code",
      "metadata": {
        "id": "1T0_LbzaoYNc",
        "colab": {
          "base_uri": "https://localhost:8080/",
          "height": 50
        },
        "outputId": "9197dd0d-753c-4108-dff7-d33d67486cb4"
      },
      "source": [
        "pip install opencv-python"
      ],
      "execution_count": null,
      "outputs": [
        {
          "output_type": "stream",
          "text": [
            "Requirement already satisfied: opencv-python in /usr/local/lib/python3.6/dist-packages (4.1.2.30)\n",
            "Requirement already satisfied: numpy>=1.11.3 in /usr/local/lib/python3.6/dist-packages (from opencv-python) (1.18.5)\n"
          ],
          "name": "stdout"
        }
      ]
    },
    {
      "cell_type": "code",
      "metadata": {
        "id": "vFJF6WJ3pCsx"
      },
      "source": [
        "import cv2\n",
        "import imutils.contours\n"
      ],
      "execution_count": null,
      "outputs": []
    },
    {
      "cell_type": "code",
      "metadata": {
        "id": "WDOKx3niqpsd"
      },
      "source": [
        "import argparse"
      ],
      "execution_count": null,
      "outputs": []
    },
    {
      "cell_type": "code",
      "metadata": {
        "id": "fgm-Y83-pGNT",
        "colab": {
          "base_uri": "https://localhost:8080/",
          "height": 178
        },
        "outputId": "ef9f4e5b-1862-4bc4-833c-59d715bdc1d9"
      },
      "source": [
        "# Get our options\n",
        "parser = argparse.ArgumentParser(description='Object height measurement')\n",
        "parser.add_argument(\"-i\", \"--image\", type=float, required=True,\n",
        "                    help=\"file to process\")\n",
        "parser.add_argument(\"-w\", \"--width\", type=float, required=True,\n",
        "                    help=\"width of the left-most object in the image\")\n",
        "args = vars(parser.parse_args())"
      ],
      "execution_count": null,
      "outputs": [
        {
          "output_type": "stream",
          "text": [
            "usage: ipykernel_launcher.py [-h] -i IMAGE -w WIDTH\n",
            "ipykernel_launcher.py: error: the following arguments are required: -i/--image, -w/--width\n"
          ],
          "name": "stderr"
        },
        {
          "output_type": "error",
          "ename": "SystemExit",
          "evalue": "ignored",
          "traceback": [
            "An exception has occurred, use %tb to see the full traceback.\n",
            "\u001b[0;31mSystemExit\u001b[0m\u001b[0;31m:\u001b[0m 2\n"
          ]
        },
        {
          "output_type": "stream",
          "text": [
            "/usr/local/lib/python3.6/dist-packages/IPython/core/interactiveshell.py:2890: UserWarning: To exit: use 'exit', 'quit', or Ctrl-D.\n",
            "  warn(\"To exit: use 'exit', 'quit', or Ctrl-D.\", stacklevel=1)\n"
          ],
          "name": "stderr"
        }
      ]
    },
    {
      "cell_type": "code",
      "metadata": {
        "id": "Q6P-RxFDp1gp"
      },
      "source": [
        "import argparse\n",
        "import imutils.contours\n",
        "import cv2\n",
        "from time import sleep\n",
        "import datetime"
      ],
      "execution_count": null,
      "outputs": []
    },
    {
      "cell_type": "code",
      "metadata": {
        "id": "wQaT0Pko5mJ0"
      },
      "source": [
        "# Cover to grayscale and blur\n",
        "image=cv2.imread(\"/content/images/plant1.jpg\" )\n",
        "greyscale = cv2.cvtColor(image, cv2.COLOR_BGR2GRAY)\n",
        "greyscale = cv2.GaussianBlur(greyscale, (7, 7), 0)"
      ],
      "execution_count": null,
      "outputs": []
    },
    {
      "cell_type": "code",
      "metadata": {
        "id": "0ishHvm96QXA"
      },
      "source": [
        "# Detect edges and close gaps\n",
        "canny_output = cv2.Canny(greyscale, 50, 100)\n",
        "canny_output = cv2.dilate(canny_output, None, iterations=1)\n",
        "canny_output = cv2.erode(canny_output, None, iterations=1)"
      ],
      "execution_count": null,
      "outputs": []
    },
    {
      "cell_type": "code",
      "metadata": {
        "id": "TAayu0FU7Fn9",
        "colab": {
          "base_uri": "https://localhost:8080/",
          "height": 229
        },
        "outputId": "78e6fca3-c8ee-4c78-a710-d0d31baa7aac"
      },
      "source": [
        "# Get the contours of the shapes, sort l-to-r and create boxes\n",
        "_, contours, _ = cv2.findContours(canny_output, cv2.RETR_EXTERNAL,\n",
        "                                  cv2.CHAIN_APPROX_SIMPLE)\n",
        "if len(contours) < 1:\n",
        "    print(\"Couldn't detect two or more objects\")\n",
        "    exit(0)\n",
        "\n",
        "(contours, _) = imutils.contours.sort_contours(contours)\n",
        "contours_poly = [None]*len(contours)\n",
        "boundRect = [None]*len(contours)\n",
        "for i, c in enumerate(contours):\n",
        "    contours_poly[i] = cv2.approxPolyDP(c, 3, True)\n",
        "    boundRect[i] = cv2.boundingRect(contours_poly[i])\n",
        "\n",
        "output_image = image.copy()\n",
        "mmPerPixel = args[\"width\"] / boundRect[0][2]\n",
        "highestRect = 1000\n",
        "lowestRect = 0\n",
        "\n",
        "for i in range(1, len(contours)):\n",
        "\n",
        "    # Too smol?\n",
        "    if boundRect[i][2] < 50 or boundRect[i][3] < 50:\n",
        "        continue\n",
        "\n",
        "    # The first rectangle is our control, so set the ratio\n",
        "    if highestRect > boundRect[i][1]:\n",
        "        highestRect = boundRect[i][1]\n",
        "    if lowestRect < (boundRect[i][1] + boundRect[i][3]):\n",
        "        lowestRect = (boundRect[i][1] + boundRect[i][3])\n",
        "\n",
        "    # Create a boundary box\n",
        "    cv2.rectangle(output_image, (int(boundRect[i][0]), int(boundRect[i][1])),\n",
        "                  (int(boundRect[i][0] + boundRect[i][2]),\n",
        "                  int(boundRect[i][1] + boundRect[i][3])), (255, 0, 0), 2)\n",
        "\n",
        "# Calculate the size of our plant\n",
        "plantHeight = (lowestRect - highestRect) * mmPerPixel\n",
        "print(\"\\\"\" + str(datetime.datetime.now()) + \"\\\",\" + str(plantHeight))"
      ],
      "execution_count": null,
      "outputs": [
        {
          "output_type": "error",
          "ename": "ValueError",
          "evalue": "ignored",
          "traceback": [
            "\u001b[0;31m---------------------------------------------------------------------------\u001b[0m",
            "\u001b[0;31mValueError\u001b[0m                                Traceback (most recent call last)",
            "\u001b[0;32m<ipython-input-14-d2c255e750aa>\u001b[0m in \u001b[0;36m<module>\u001b[0;34m()\u001b[0m\n\u001b[1;32m      1\u001b[0m \u001b[0;31m# Get the contours of the shapes, sort l-to-r and create boxes\u001b[0m\u001b[0;34m\u001b[0m\u001b[0;34m\u001b[0m\u001b[0;34m\u001b[0m\u001b[0m\n\u001b[1;32m      2\u001b[0m _, contours, _ = cv2.findContours(canny_output, cv2.RETR_EXTERNAL,\n\u001b[0;32m----> 3\u001b[0;31m                                   cv2.CHAIN_APPROX_SIMPLE)\n\u001b[0m\u001b[1;32m      4\u001b[0m \u001b[0;32mif\u001b[0m \u001b[0mlen\u001b[0m\u001b[0;34m(\u001b[0m\u001b[0mcontours\u001b[0m\u001b[0;34m)\u001b[0m \u001b[0;34m<\u001b[0m \u001b[0;36m1\u001b[0m\u001b[0;34m:\u001b[0m\u001b[0;34m\u001b[0m\u001b[0;34m\u001b[0m\u001b[0m\n\u001b[1;32m      5\u001b[0m     \u001b[0mprint\u001b[0m\u001b[0;34m(\u001b[0m\u001b[0;34m\"Couldn't detect two or more objects\"\u001b[0m\u001b[0;34m)\u001b[0m\u001b[0;34m\u001b[0m\u001b[0;34m\u001b[0m\u001b[0m\n",
            "\u001b[0;31mValueError\u001b[0m: not enough values to unpack (expected 3, got 2)"
          ]
        }
      ]
    },
    {
      "cell_type": "code",
      "metadata": {
        "id": "dTi_bheA7SYu"
      },
      "source": [
        ""
      ],
      "execution_count": null,
      "outputs": []
    }
  ]
}