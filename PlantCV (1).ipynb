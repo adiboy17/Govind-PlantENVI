{
  "nbformat": 4,
  "nbformat_minor": 0,
  "metadata": {
    "colab": {
      "name": "PlantCV.ipynb",
      "provenance": []
    },
    "kernelspec": {
      "name": "python3",
      "display_name": "Python 3"
    }
  },
  "cells": [
    {
      "cell_type": "code",
      "metadata": {
        "id": "tGgJGIrLm-gw",
        "colab": {
          "base_uri": "https://localhost:8080/",
          "height": 642
        },
        "outputId": "11697de4-0bd8-49aa-eec9-11a36ff9e954"
      },
      "source": [
        "pip install plantcv\n"
      ],
      "execution_count": null,
      "outputs": [
        {
          "output_type": "stream",
          "text": [
            "Collecting plantcv\n",
            "\u001b[?25l  Downloading https://files.pythonhosted.org/packages/36/28/807d0d3d0932c828a598b8f38a5f4ff2ab2c0cd209e116d673dfa13c2883/plantcv-3.9.0-py3-none-any.whl (201kB)\n",
            "\r\u001b[K     |█▋                              | 10kB 16.9MB/s eta 0:00:01\r\u001b[K     |███▎                            | 20kB 1.7MB/s eta 0:00:01\r\u001b[K     |████▉                           | 30kB 2.3MB/s eta 0:00:01\r\u001b[K     |██████▌                         | 40kB 2.5MB/s eta 0:00:01\r\u001b[K     |████████▏                       | 51kB 2.0MB/s eta 0:00:01\r\u001b[K     |█████████▊                      | 61kB 2.2MB/s eta 0:00:01\r\u001b[K     |███████████▍                    | 71kB 2.4MB/s eta 0:00:01\r\u001b[K     |█████████████                   | 81kB 2.7MB/s eta 0:00:01\r\u001b[K     |██████████████▋                 | 92kB 2.9MB/s eta 0:00:01\r\u001b[K     |████████████████▎               | 102kB 2.8MB/s eta 0:00:01\r\u001b[K     |█████████████████▉              | 112kB 2.8MB/s eta 0:00:01\r\u001b[K     |███████████████████▌            | 122kB 2.8MB/s eta 0:00:01\r\u001b[K     |█████████████████████▏          | 133kB 2.8MB/s eta 0:00:01\r\u001b[K     |██████████████████████▊         | 143kB 2.8MB/s eta 0:00:01\r\u001b[K     |████████████████████████▍       | 153kB 2.8MB/s eta 0:00:01\r\u001b[K     |██████████████████████████      | 163kB 2.8MB/s eta 0:00:01\r\u001b[K     |███████████████████████████▋    | 174kB 2.8MB/s eta 0:00:01\r\u001b[K     |█████████████████████████████▎  | 184kB 2.8MB/s eta 0:00:01\r\u001b[K     |██████████████████████████████▉ | 194kB 2.8MB/s eta 0:00:01\r\u001b[K     |████████████████████████████████| 204kB 2.8MB/s \n",
            "\u001b[?25hRequirement already satisfied: plotnine in /usr/local/lib/python3.6/dist-packages (from plantcv) (0.6.0)\n",
            "Requirement already satisfied: python-dateutil in /usr/local/lib/python3.6/dist-packages (from plantcv) (2.8.1)\n",
            "Requirement already satisfied: matplotlib>=1.5 in /usr/local/lib/python3.6/dist-packages (from plantcv) (3.2.2)\n",
            "Requirement already satisfied: scipy in /usr/local/lib/python3.6/dist-packages (from plantcv) (1.4.1)\n",
            "Requirement already satisfied: numpy>=1.11 in /usr/local/lib/python3.6/dist-packages (from plantcv) (1.18.5)\n",
            "Requirement already satisfied: scikit-learn in /usr/local/lib/python3.6/dist-packages (from plantcv) (0.22.2.post1)\n",
            "Collecting opencv-python<4,>=3.4\n",
            "\u001b[?25l  Downloading https://files.pythonhosted.org/packages/76/6b/d8541f8890f166f050126c234e37c4535e74851f7625851abf58a6f37560/opencv_python-3.4.11.41-cp36-cp36m-manylinux2014_x86_64.whl (49.0MB)\n",
            "\u001b[K     |████████████████████████████████| 49.0MB 77kB/s \n",
            "\u001b[?25hRequirement already satisfied: pandas in /usr/local/lib/python3.6/dist-packages (from plantcv) (1.0.5)\n",
            "Requirement already satisfied: scikit-image in /usr/local/lib/python3.6/dist-packages (from plantcv) (0.16.2)\n",
            "Requirement already satisfied: mizani>=0.6.0 in /usr/local/lib/python3.6/dist-packages (from plotnine->plantcv) (0.6.0)\n",
            "Requirement already satisfied: statsmodels>=0.9.0 in /usr/local/lib/python3.6/dist-packages (from plotnine->plantcv) (0.10.2)\n",
            "Requirement already satisfied: patsy>=0.4.1 in /usr/local/lib/python3.6/dist-packages (from plotnine->plantcv) (0.5.1)\n",
            "Requirement already satisfied: descartes>=1.1.0 in /usr/local/lib/python3.6/dist-packages (from plotnine->plantcv) (1.1.0)\n",
            "Requirement already satisfied: six>=1.5 in /usr/local/lib/python3.6/dist-packages (from python-dateutil->plantcv) (1.15.0)\n",
            "Requirement already satisfied: kiwisolver>=1.0.1 in /usr/local/lib/python3.6/dist-packages (from matplotlib>=1.5->plantcv) (1.2.0)\n",
            "Requirement already satisfied: cycler>=0.10 in /usr/local/lib/python3.6/dist-packages (from matplotlib>=1.5->plantcv) (0.10.0)\n",
            "Requirement already satisfied: pyparsing!=2.0.4,!=2.1.2,!=2.1.6,>=2.0.1 in /usr/local/lib/python3.6/dist-packages (from matplotlib>=1.5->plantcv) (2.4.7)\n",
            "Requirement already satisfied: joblib>=0.11 in /usr/local/lib/python3.6/dist-packages (from scikit-learn->plantcv) (0.16.0)\n",
            "Requirement already satisfied: pytz>=2017.2 in /usr/local/lib/python3.6/dist-packages (from pandas->plantcv) (2018.9)\n",
            "Requirement already satisfied: pillow>=4.3.0 in /usr/local/lib/python3.6/dist-packages (from scikit-image->plantcv) (7.0.0)\n",
            "Requirement already satisfied: networkx>=2.0 in /usr/local/lib/python3.6/dist-packages (from scikit-image->plantcv) (2.5)\n",
            "Requirement already satisfied: PyWavelets>=0.4.0 in /usr/local/lib/python3.6/dist-packages (from scikit-image->plantcv) (1.1.1)\n",
            "Requirement already satisfied: imageio>=2.3.0 in /usr/local/lib/python3.6/dist-packages (from scikit-image->plantcv) (2.4.1)\n",
            "Requirement already satisfied: palettable in /usr/local/lib/python3.6/dist-packages (from mizani>=0.6.0->plotnine->plantcv) (3.3.0)\n",
            "Requirement already satisfied: decorator>=4.3.0 in /usr/local/lib/python3.6/dist-packages (from networkx>=2.0->scikit-image->plantcv) (4.4.2)\n",
            "\u001b[31mERROR: albumentations 0.1.12 has requirement imgaug<0.2.7,>=0.2.5, but you'll have imgaug 0.2.9 which is incompatible.\u001b[0m\n",
            "Installing collected packages: opencv-python, plantcv\n",
            "  Found existing installation: opencv-python 4.1.2.30\n",
            "    Uninstalling opencv-python-4.1.2.30:\n",
            "      Successfully uninstalled opencv-python-4.1.2.30\n",
            "Successfully installed opencv-python-3.4.11.41 plantcv-3.9.0\n"
          ],
          "name": "stdout"
        }
      ]
    },
    {
      "cell_type": "code",
      "metadata": {
        "id": "6qyFnXGhnCd6"
      },
      "source": [
        "import os\n",
        "import cv2\n",
        "import numpy as np\n",
        "import pandas as pd\n",
        "from plantcv.plantcv import fatal_error\n",
        "from plantcv.plantcv import print_image\n",
        "from plantcv.plantcv import plot_image\n",
        "from plantcv.plantcv import params\n",
        "from plantcv.plantcv.hyperspectral import read_data\n",
        "\n",
        "\n",
        "def readimage(filename, mode=\"native\"):\n",
        "    \"\"\"Read image from file.\n",
        "    Inputs:\n",
        "    filename = plantcv\n",
        "    mode     = mode of imread (\"native\", \"rgb\", \"rgba\", \"gray\", \"csv\", \"envi\")\n",
        "    Returns:\n",
        "    img      = image object as numpy array\n",
        "    path     = '/content/plantcv.webp'\n",
        "    img_name = plantcv\n",
        "    :param filename: str\n",
        "    :param mode: str\n",
        "    :return img: numpy.ndarray\n",
        "    :return path: str\n",
        "    :return img_name: str\n",
        "    \"\"\"\n",
        "    if mode.upper() == \"GRAY\" or mode.upper() == \"GREY\":\n",
        "        img = cv2.imread(filename, 0)\n",
        "    elif mode.upper() == \"RGB\":\n",
        "        img = cv2.imread(filename)\n",
        "    elif mode.upper() == \"RGBA\":\n",
        "        img = cv2.imread(filename, -1)\n",
        "    elif mode.upper() == \"CSV\":\n",
        "        inputarray = pd.read_csv(filename, sep=',', header=None)\n",
        "        img = inputarray.values\n",
        "    elif mode.upper() == \"ENVI\":\n",
        "        array_data = read_data(filename)\n",
        "        return array_data\n",
        "    else:\n",
        "        img = cv2.imread(filename, -1)\n",
        "\n",
        "    # Default to drop alpha channel if user doesn't specify 'rgba'\n",
        "    if len(np.shape(img)) == 3 and np.shape(img)[2] == 4 and mode.upper() == \"NATIVE\":\n",
        "        img = cv2.imread(filename)\n",
        "\n",
        "    if img is None:\n",
        "        fatal_error(\"Failed to open \" + filename)\n",
        "\n",
        "    # Split path from filename\n",
        "    path, img_name = os.path.split(filename)\n",
        "\n",
        "    if params.debug == \"print\":\n",
        "        print_image(img, os.path.join(params.debug_outdir, \"input_image.png\"))\n",
        "    elif params.debug == \"plot\":\n",
        "        plot_image(img)\n",
        "\n",
        "    return img, path, img_name"
      ],
      "execution_count": null,
      "outputs": []
    },
    {
      "cell_type": "code",
      "metadata": {
        "id": "xZg1esCUoSda"
      },
      "source": [
        ""
      ],
      "execution_count": null,
      "outputs": []
    }
  ]
}