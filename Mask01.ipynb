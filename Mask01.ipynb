{
  "nbformat": 4,
  "nbformat_minor": 0,
  "metadata": {
    "colab": {
      "name": "Mask01.ipynb",
      "provenance": []
    },
    "kernelspec": {
      "name": "python3",
      "display_name": "Python 3"
    }
  },
  "cells": [
    {
      "cell_type": "code",
      "metadata": {
        "colab": {
          "base_uri": "https://localhost:8080/"
        },
        "id": "R52B4FZWzUHv",
        "outputId": "cda7afac-2f8d-40a2-d146-dfef75f4c57f"
      },
      "source": [
        "pip install plantcv"
      ],
      "execution_count": null,
      "outputs": [
        {
          "output_type": "stream",
          "text": [
            "Requirement already satisfied: plantcv in /usr/local/lib/python3.6/dist-packages (3.10.1)\n",
            "Requirement already satisfied: opencv-python<4,>=3.4 in /usr/local/lib/python3.6/dist-packages (from plantcv) (3.4.13.47)\n",
            "Requirement already satisfied: dask-jobqueue in /usr/local/lib/python3.6/dist-packages (from plantcv) (0.7.2)\n",
            "Requirement already satisfied: scikit-image in /usr/local/lib/python3.6/dist-packages (from plantcv) (0.16.2)\n",
            "Requirement already satisfied: python-dateutil in /usr/local/lib/python3.6/dist-packages (from plantcv) (2.8.1)\n",
            "Requirement already satisfied: numpy>=1.11 in /usr/local/lib/python3.6/dist-packages (from plantcv) (1.19.5)\n",
            "Requirement already satisfied: matplotlib>=1.5 in /usr/local/lib/python3.6/dist-packages (from plantcv) (3.2.2)\n",
            "Requirement already satisfied: plotnine in /usr/local/lib/python3.6/dist-packages (from plantcv) (0.6.0)\n",
            "Requirement already satisfied: scipy in /usr/local/lib/python3.6/dist-packages (from plantcv) (1.4.1)\n",
            "Requirement already satisfied: pandas in /usr/local/lib/python3.6/dist-packages (from plantcv) (1.1.5)\n",
            "Requirement already satisfied: scikit-learn in /usr/local/lib/python3.6/dist-packages (from plantcv) (0.22.2.post1)\n",
            "Requirement already satisfied: dask in /usr/local/lib/python3.6/dist-packages (from plantcv) (2.12.0)\n",
            "Requirement already satisfied: distributed>=2.19 in /usr/local/lib/python3.6/dist-packages (from dask-jobqueue->plantcv) (2021.1.1)\n",
            "Requirement already satisfied: pillow>=4.3.0 in /usr/local/lib/python3.6/dist-packages (from scikit-image->plantcv) (7.0.0)\n",
            "Requirement already satisfied: PyWavelets>=0.4.0 in /usr/local/lib/python3.6/dist-packages (from scikit-image->plantcv) (1.1.1)\n",
            "Requirement already satisfied: imageio>=2.3.0 in /usr/local/lib/python3.6/dist-packages (from scikit-image->plantcv) (2.4.1)\n",
            "Requirement already satisfied: networkx>=2.0 in /usr/local/lib/python3.6/dist-packages (from scikit-image->plantcv) (2.5)\n",
            "Requirement already satisfied: six>=1.5 in /usr/local/lib/python3.6/dist-packages (from python-dateutil->plantcv) (1.15.0)\n",
            "Requirement already satisfied: pyparsing!=2.0.4,!=2.1.2,!=2.1.6,>=2.0.1 in /usr/local/lib/python3.6/dist-packages (from matplotlib>=1.5->plantcv) (2.4.7)\n",
            "Requirement already satisfied: kiwisolver>=1.0.1 in /usr/local/lib/python3.6/dist-packages (from matplotlib>=1.5->plantcv) (1.3.1)\n",
            "Requirement already satisfied: cycler>=0.10 in /usr/local/lib/python3.6/dist-packages (from matplotlib>=1.5->plantcv) (0.10.0)\n",
            "Requirement already satisfied: descartes>=1.1.0 in /usr/local/lib/python3.6/dist-packages (from plotnine->plantcv) (1.1.0)\n",
            "Requirement already satisfied: statsmodels>=0.9.0 in /usr/local/lib/python3.6/dist-packages (from plotnine->plantcv) (0.10.2)\n",
            "Requirement already satisfied: patsy>=0.4.1 in /usr/local/lib/python3.6/dist-packages (from plotnine->plantcv) (0.5.1)\n",
            "Requirement already satisfied: mizani>=0.6.0 in /usr/local/lib/python3.6/dist-packages (from plotnine->plantcv) (0.6.0)\n",
            "Requirement already satisfied: pytz>=2017.2 in /usr/local/lib/python3.6/dist-packages (from pandas->plantcv) (2018.9)\n",
            "Requirement already satisfied: joblib>=0.11 in /usr/local/lib/python3.6/dist-packages (from scikit-learn->plantcv) (1.0.0)\n",
            "Requirement already satisfied: toolz>=0.8.2 in /usr/local/lib/python3.6/dist-packages (from distributed>=2.19->dask-jobqueue->plantcv) (0.11.1)\n",
            "Requirement already satisfied: msgpack>=0.6.0 in /usr/local/lib/python3.6/dist-packages (from distributed>=2.19->dask-jobqueue->plantcv) (1.0.2)\n",
            "Requirement already satisfied: tornado>=5; python_version < \"3.8\" in /usr/local/lib/python3.6/dist-packages (from distributed>=2.19->dask-jobqueue->plantcv) (5.1.1)\n",
            "Requirement already satisfied: cloudpickle>=1.5.0 in /usr/local/lib/python3.6/dist-packages (from distributed>=2.19->dask-jobqueue->plantcv) (1.6.0)\n",
            "Requirement already satisfied: pyyaml in /usr/local/lib/python3.6/dist-packages (from distributed>=2.19->dask-jobqueue->plantcv) (3.13)\n",
            "Requirement already satisfied: psutil>=5.0 in /usr/local/lib/python3.6/dist-packages (from distributed>=2.19->dask-jobqueue->plantcv) (5.4.8)\n",
            "Requirement already satisfied: tblib>=1.6.0 in /usr/local/lib/python3.6/dist-packages (from distributed>=2.19->dask-jobqueue->plantcv) (1.7.0)\n",
            "Requirement already satisfied: contextvars; python_version < \"3.7\" in /usr/local/lib/python3.6/dist-packages (from distributed>=2.19->dask-jobqueue->plantcv) (2.4)\n",
            "Requirement already satisfied: click>=6.6 in /usr/local/lib/python3.6/dist-packages (from distributed>=2.19->dask-jobqueue->plantcv) (7.1.2)\n",
            "Requirement already satisfied: zict>=0.1.3 in /usr/local/lib/python3.6/dist-packages (from distributed>=2.19->dask-jobqueue->plantcv) (2.0.0)\n",
            "Requirement already satisfied: sortedcontainers!=2.0.0,!=2.0.1 in /usr/local/lib/python3.6/dist-packages (from distributed>=2.19->dask-jobqueue->plantcv) (2.3.0)\n",
            "Requirement already satisfied: setuptools in /usr/local/lib/python3.6/dist-packages (from distributed>=2.19->dask-jobqueue->plantcv) (51.3.3)\n",
            "Requirement already satisfied: decorator>=4.3.0 in /usr/local/lib/python3.6/dist-packages (from networkx>=2.0->scikit-image->plantcv) (4.4.2)\n",
            "Requirement already satisfied: palettable in /usr/local/lib/python3.6/dist-packages (from mizani>=0.6.0->plotnine->plantcv) (3.3.0)\n",
            "Requirement already satisfied: immutables>=0.9 in /usr/local/lib/python3.6/dist-packages (from contextvars; python_version < \"3.7\"->distributed>=2.19->dask-jobqueue->plantcv) (0.14)\n",
            "Requirement already satisfied: heapdict in /usr/local/lib/python3.6/dist-packages (from zict>=0.1.3->distributed>=2.19->dask-jobqueue->plantcv) (1.0.1)\n"
          ],
          "name": "stdout"
        }
      ]
    },
    {
      "cell_type": "code",
      "metadata": {
        "id": "r3jgSJBgzfwm"
      },
      "source": [
        "# Apply White or Black Background Mask\r\n",
        "import os\r\n",
        "import cv2\r\n",
        "import numpy as np\r\n",
        "from plantcv.plantcv import params\r\n",
        "from plantcv.plantcv import plot_image\r\n",
        "from plantcv.plantcv import print_image\r\n",
        "from plantcv.plantcv import fatal_error\r\n",
        "from plantcv.plantcv.transform import rescale"
      ],
      "execution_count": null,
      "outputs": []
    },
    {
      "cell_type": "code",
      "metadata": {
        "id": "LbdgW6H30X2I"
      },
      "source": [
        "\r\n",
        "def apply_mask(img, mask, mask_color):\r\n",
        "    \"\"\"Apply white image mask to image, with bitwise AND operator bitwise NOT operator and ADD operator.\r\n",
        "    Inputs:\r\n",
        "    img        = '/content/plantimg/mango.png'\r\n",
        "    mask       = Binary mask image data\r\n",
        "    mask_color = 'white' or 'black'\r\n",
        "    Returns:\r\n",
        "    masked_img = masked image data\r\n",
        "    :param img: numpy.ndarray\r\n",
        "    :param mask: numpy.ndarray\r\n",
        "    :param mask_color: str\r\n",
        "    :return masked_img: numpy.ndarray\r\n",
        "    \"\"\"\r\n",
        "\r\n",
        "    params.device += 1\r\n",
        "\r\n",
        "    if mask_color.upper() == \"WHITE\":\r\n",
        "        color_val = 255\r\n",
        "    elif mask_color.upper() == \"BLACK\":\r\n",
        "        color_val = 0\r\n",
        "    else:\r\n",
        "        fatal_error('Mask Color ' + str(mask_color) + ' is not \"white\" or \"black\"!')\r\n",
        "\r\n",
        "    array_data = img.copy()\r\n",
        "\r\n",
        "    # Mask the array\r\n",
        "    array_data[np.where(mask == 0)] = color_val\r\n",
        "\r\n",
        "    # Check the array data format\r\n",
        "    if len(np.shape(array_data)) > 2 and np.shape(array_data)[-1] > 3:\r\n",
        "        # Replace this part with _make_pseudo_rgb\r\n",
        "        num_bands = np.shape(array_data)[2]\r\n",
        "        med_band = int(num_bands / 2)\r\n",
        "        debug = params.debug\r\n",
        "        params.debug = None\r\n",
        "        pseudo_rgb = cv2.merge((rescale(array_data[:, :, 0]),\r\n",
        "                                rescale(array_data[:, :, med_band]),\r\n",
        "                                rescale(array_data[:, :, num_bands - 1])))\r\n",
        "        params.debug = debug\r\n",
        "\r\n",
        "        if params.debug == 'print':\r\n",
        "            print_image(pseudo_rgb, os.path.join(params.debug_outdir, str(params.device) + '_masked.png'))\r\n",
        "        elif params.debug == 'plot':\r\n",
        "            plot_image(pseudo_rgb)\r\n",
        "    else:\r\n",
        "        if params.debug == 'print':\r\n",
        "            print_image(array_data, os.path.join(params.debug_outdir, str(params.device) + '_masked.png'))\r\n",
        "        elif params.debug == 'plot':\r\n",
        "            plot_image(array_data)\r\n",
        "\r\n",
        "    return array_data"
      ],
      "execution_count": null,
      "outputs": []
    },
    {
      "cell_type": "code",
      "metadata": {
        "id": "nVC6L_IWLYRW"
      },
      "source": [
        ""
      ],
      "execution_count": null,
      "outputs": []
    },
    {
      "cell_type": "code",
      "metadata": {
        "id": "U6QgERaOLYmd"
      },
      "source": [
        ""
      ],
      "execution_count": null,
      "outputs": []
    },
    {
      "cell_type": "code",
      "metadata": {
        "id": "0OLiCS7Z3DHL"
      },
      "source": [
        ""
      ],
      "execution_count": null,
      "outputs": []
    }
  ]
}