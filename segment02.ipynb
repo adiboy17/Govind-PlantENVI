{
  "nbformat": 4,
  "nbformat_minor": 0,
  "metadata": {
    "colab": {
      "name": "segment02.ipynb",
      "provenance": []
    },
    "kernelspec": {
      "name": "python3",
      "display_name": "Python 3"
    }
  },
  "cells": [
    {
      "cell_type": "code",
      "metadata": {
        "colab": {
          "base_uri": "https://localhost:8080/"
        },
        "id": "FVoiue6LMGNF",
        "outputId": "8f7d14f3-0cc1-422a-ef42-257a54cb67c9"
      },
      "source": [
        "pip install plantcv"
      ],
      "execution_count": null,
      "outputs": [
        {
          "output_type": "stream",
          "text": [
            "Collecting plantcv\n",
            "\u001b[?25l  Downloading https://files.pythonhosted.org/packages/aa/6f/5d1fff64024668596ba79b7c9869e7e2ce957a57c163d9cd6c010b2cd7cf/plantcv-3.10.1-py3-none-any.whl (207kB)\n",
            "\r\u001b[K     |█▋                              | 10kB 14.9MB/s eta 0:00:01\r\u001b[K     |███▏                            | 20kB 20.0MB/s eta 0:00:01\r\u001b[K     |████▊                           | 30kB 15.7MB/s eta 0:00:01\r\u001b[K     |██████▎                         | 40kB 17.9MB/s eta 0:00:01\r\u001b[K     |████████                        | 51kB 9.2MB/s eta 0:00:01\r\u001b[K     |█████████▌                      | 61kB 10.4MB/s eta 0:00:01\r\u001b[K     |███████████                     | 71kB 11.3MB/s eta 0:00:01\r\u001b[K     |████████████▋                   | 81kB 11.9MB/s eta 0:00:01\r\u001b[K     |██████████████▏                 | 92kB 10.8MB/s eta 0:00:01\r\u001b[K     |███████████████▉                | 102kB 11.5MB/s eta 0:00:01\r\u001b[K     |█████████████████▍              | 112kB 11.5MB/s eta 0:00:01\r\u001b[K     |███████████████████             | 122kB 11.5MB/s eta 0:00:01\r\u001b[K     |████████████████████▌           | 133kB 11.5MB/s eta 0:00:01\r\u001b[K     |██████████████████████▏         | 143kB 11.5MB/s eta 0:00:01\r\u001b[K     |███████████████████████▊        | 153kB 11.5MB/s eta 0:00:01\r\u001b[K     |█████████████████████████▎      | 163kB 11.5MB/s eta 0:00:01\r\u001b[K     |██████████████████████████▉     | 174kB 11.5MB/s eta 0:00:01\r\u001b[K     |████████████████████████████▍   | 184kB 11.5MB/s eta 0:00:01\r\u001b[K     |██████████████████████████████  | 194kB 11.5MB/s eta 0:00:01\r\u001b[K     |███████████████████████████████▋| 204kB 11.5MB/s eta 0:00:01\r\u001b[K     |████████████████████████████████| 215kB 11.5MB/s \n",
            "\u001b[?25hRequirement already satisfied: dask in /usr/local/lib/python3.6/dist-packages (from plantcv) (2.12.0)\n",
            "Requirement already satisfied: scipy in /usr/local/lib/python3.6/dist-packages (from plantcv) (1.4.1)\n",
            "Requirement already satisfied: python-dateutil in /usr/local/lib/python3.6/dist-packages (from plantcv) (2.8.1)\n",
            "Requirement already satisfied: scikit-image in /usr/local/lib/python3.6/dist-packages (from plantcv) (0.16.2)\n",
            "Collecting opencv-python<4,>=3.4\n",
            "\u001b[?25l  Downloading https://files.pythonhosted.org/packages/f0/95/f6b2be6fd078f5fa870d241fd7ad4e40ab694f66dc2b10b216d1e0e0c2ba/opencv_python-3.4.13.47-cp36-cp36m-manylinux2014_x86_64.whl (48.6MB)\n",
            "\u001b[K     |████████████████████████████████| 48.6MB 96kB/s \n",
            "\u001b[?25hRequirement already satisfied: plotnine in /usr/local/lib/python3.6/dist-packages (from plantcv) (0.6.0)\n",
            "Collecting dask-jobqueue\n",
            "  Downloading https://files.pythonhosted.org/packages/22/4a/bf4ea9c12c825d0926899d9c08d1abc009ac0779c6b2476aa419a02de719/dask_jobqueue-0.7.2-py2.py3-none-any.whl\n",
            "Requirement already satisfied: numpy>=1.11 in /usr/local/lib/python3.6/dist-packages (from plantcv) (1.19.5)\n",
            "Requirement already satisfied: matplotlib>=1.5 in /usr/local/lib/python3.6/dist-packages (from plantcv) (3.2.2)\n",
            "Requirement already satisfied: pandas in /usr/local/lib/python3.6/dist-packages (from plantcv) (1.1.5)\n",
            "Requirement already satisfied: scikit-learn in /usr/local/lib/python3.6/dist-packages (from plantcv) (0.22.2.post1)\n",
            "Requirement already satisfied: six>=1.5 in /usr/local/lib/python3.6/dist-packages (from python-dateutil->plantcv) (1.15.0)\n",
            "Requirement already satisfied: PyWavelets>=0.4.0 in /usr/local/lib/python3.6/dist-packages (from scikit-image->plantcv) (1.1.1)\n",
            "Requirement already satisfied: networkx>=2.0 in /usr/local/lib/python3.6/dist-packages (from scikit-image->plantcv) (2.5)\n",
            "Requirement already satisfied: imageio>=2.3.0 in /usr/local/lib/python3.6/dist-packages (from scikit-image->plantcv) (2.4.1)\n",
            "Requirement already satisfied: pillow>=4.3.0 in /usr/local/lib/python3.6/dist-packages (from scikit-image->plantcv) (7.0.0)\n",
            "Requirement already satisfied: statsmodels>=0.9.0 in /usr/local/lib/python3.6/dist-packages (from plotnine->plantcv) (0.10.2)\n",
            "Requirement already satisfied: patsy>=0.4.1 in /usr/local/lib/python3.6/dist-packages (from plotnine->plantcv) (0.5.1)\n",
            "Requirement already satisfied: mizani>=0.6.0 in /usr/local/lib/python3.6/dist-packages (from plotnine->plantcv) (0.6.0)\n",
            "Requirement already satisfied: descartes>=1.1.0 in /usr/local/lib/python3.6/dist-packages (from plotnine->plantcv) (1.1.0)\n",
            "Collecting distributed>=2.19\n",
            "\u001b[?25l  Downloading https://files.pythonhosted.org/packages/50/e1/8915f302d72b2703af58b765371be0e4e6f2ec43356c1d947ff1b1c215e8/distributed-2021.1.1-py3-none-any.whl (672kB)\n",
            "\u001b[K     |████████████████████████████████| 675kB 31.9MB/s \n",
            "\u001b[?25hRequirement already satisfied: kiwisolver>=1.0.1 in /usr/local/lib/python3.6/dist-packages (from matplotlib>=1.5->plantcv) (1.3.1)\n",
            "Requirement already satisfied: cycler>=0.10 in /usr/local/lib/python3.6/dist-packages (from matplotlib>=1.5->plantcv) (0.10.0)\n",
            "Requirement already satisfied: pyparsing!=2.0.4,!=2.1.2,!=2.1.6,>=2.0.1 in /usr/local/lib/python3.6/dist-packages (from matplotlib>=1.5->plantcv) (2.4.7)\n",
            "Requirement already satisfied: pytz>=2017.2 in /usr/local/lib/python3.6/dist-packages (from pandas->plantcv) (2018.9)\n",
            "Requirement already satisfied: joblib>=0.11 in /usr/local/lib/python3.6/dist-packages (from scikit-learn->plantcv) (1.0.0)\n",
            "Requirement already satisfied: decorator>=4.3.0 in /usr/local/lib/python3.6/dist-packages (from networkx>=2.0->scikit-image->plantcv) (4.4.2)\n",
            "Requirement already satisfied: palettable in /usr/local/lib/python3.6/dist-packages (from mizani>=0.6.0->plotnine->plantcv) (3.3.0)\n",
            "Requirement already satisfied: psutil>=5.0 in /usr/local/lib/python3.6/dist-packages (from distributed>=2.19->dask-jobqueue->plantcv) (5.4.8)\n",
            "Collecting contextvars; python_version < \"3.7\"\n",
            "  Downloading https://files.pythonhosted.org/packages/83/96/55b82d9f13763be9d672622e1b8106c85acb83edd7cc2fa5bc67cd9877e9/contextvars-2.4.tar.gz\n",
            "Collecting cloudpickle>=1.5.0\n",
            "  Downloading https://files.pythonhosted.org/packages/e7/e3/898487e5dbeb612054cf2e0c188463acb358167fef749c53c8bb8918cea1/cloudpickle-1.6.0-py3-none-any.whl\n",
            "Requirement already satisfied: pyyaml in /usr/local/lib/python3.6/dist-packages (from distributed>=2.19->dask-jobqueue->plantcv) (3.13)\n",
            "Requirement already satisfied: sortedcontainers!=2.0.0,!=2.0.1 in /usr/local/lib/python3.6/dist-packages (from distributed>=2.19->dask-jobqueue->plantcv) (2.3.0)\n",
            "Requirement already satisfied: tornado>=5; python_version < \"3.8\" in /usr/local/lib/python3.6/dist-packages (from distributed>=2.19->dask-jobqueue->plantcv) (5.1.1)\n",
            "Requirement already satisfied: toolz>=0.8.2 in /usr/local/lib/python3.6/dist-packages (from distributed>=2.19->dask-jobqueue->plantcv) (0.11.1)\n",
            "Requirement already satisfied: click>=6.6 in /usr/local/lib/python3.6/dist-packages (from distributed>=2.19->dask-jobqueue->plantcv) (7.1.2)\n",
            "Requirement already satisfied: tblib>=1.6.0 in /usr/local/lib/python3.6/dist-packages (from distributed>=2.19->dask-jobqueue->plantcv) (1.7.0)\n",
            "Requirement already satisfied: msgpack>=0.6.0 in /usr/local/lib/python3.6/dist-packages (from distributed>=2.19->dask-jobqueue->plantcv) (1.0.2)\n",
            "Requirement already satisfied: setuptools in /usr/local/lib/python3.6/dist-packages (from distributed>=2.19->dask-jobqueue->plantcv) (51.3.3)\n",
            "Requirement already satisfied: zict>=0.1.3 in /usr/local/lib/python3.6/dist-packages (from distributed>=2.19->dask-jobqueue->plantcv) (2.0.0)\n",
            "Collecting immutables>=0.9\n",
            "\u001b[?25l  Downloading https://files.pythonhosted.org/packages/99/e0/ea6fd4697120327d26773b5a84853f897a68e33d3f9376b00a8ff96e4f63/immutables-0.14-cp36-cp36m-manylinux1_x86_64.whl (98kB)\n",
            "\u001b[K     |████████████████████████████████| 102kB 7.4MB/s \n",
            "\u001b[?25hRequirement already satisfied: heapdict in /usr/local/lib/python3.6/dist-packages (from zict>=0.1.3->distributed>=2.19->dask-jobqueue->plantcv) (1.0.1)\n",
            "Building wheels for collected packages: contextvars\n",
            "  Building wheel for contextvars (setup.py) ... \u001b[?25l\u001b[?25hdone\n",
            "  Created wheel for contextvars: filename=contextvars-2.4-cp36-none-any.whl size=7667 sha256=43b5c11a499b8fd4c8976f95a74a8edafea56d4c8f40ee1a992983668259e38b\n",
            "  Stored in directory: /root/.cache/pip/wheels/a5/7d/68/1ebae2668bda2228686e3c1cf16f2c2384cea6e9334ad5f6de\n",
            "Successfully built contextvars\n",
            "\u001b[31mERROR: distributed 2021.1.1 has requirement dask>=2020.12.0, but you'll have dask 2.12.0 which is incompatible.\u001b[0m\n",
            "\u001b[31mERROR: albumentations 0.1.12 has requirement imgaug<0.2.7,>=0.2.5, but you'll have imgaug 0.2.9 which is incompatible.\u001b[0m\n",
            "\u001b[31mERROR: dask-jobqueue 0.7.2 has requirement dask>=2.19, but you'll have dask 2.12.0 which is incompatible.\u001b[0m\n",
            "Installing collected packages: opencv-python, immutables, contextvars, cloudpickle, distributed, dask-jobqueue, plantcv\n",
            "  Found existing installation: opencv-python 4.1.2.30\n",
            "    Uninstalling opencv-python-4.1.2.30:\n",
            "      Successfully uninstalled opencv-python-4.1.2.30\n",
            "  Found existing installation: cloudpickle 1.3.0\n",
            "    Uninstalling cloudpickle-1.3.0:\n",
            "      Successfully uninstalled cloudpickle-1.3.0\n",
            "  Found existing installation: distributed 1.25.3\n",
            "    Uninstalling distributed-1.25.3:\n",
            "      Successfully uninstalled distributed-1.25.3\n",
            "Successfully installed cloudpickle-1.6.0 contextvars-2.4 dask-jobqueue-0.7.2 distributed-2021.1.1 immutables-0.14 opencv-python-3.4.13.47 plantcv-3.10.1\n"
          ],
          "name": "stdout"
        }
      ]
    },
    {
      "cell_type": "code",
      "metadata": {
        "colab": {
          "base_uri": "https://localhost:8080/",
          "height": 197
        },
        "id": "JkgMXU68Lcok",
        "outputId": "ea95943e-31da-490c-a0b2-efd94fa388eb"
      },
      "source": [
        "#!/usr/bin/env python\r\n",
        "\r\n",
        "import argparse\r\n",
        "from plantcv import plantcv as pcv\r\n",
        "\r\n",
        "\r\n",
        "### Parse command-line arguments\r\n",
        "def options():\r\n",
        "    parser = argparse.ArgumentParser(description=\"Imaging processing with opencv\")\r\n",
        "    parser.add_argument(\"-i\", \"--image\", help=\"Input image file.\", required=True)\r\n",
        "    parser.add_argument(\"-o\", \"--outdir\", help=\"Output directory for image files.\", required=False)\r\n",
        "    parser.add_argument(\"-r\", \"--result\", help=\"result file.\", required=False)\r\n",
        "    parser.add_argument(\"-w\", \"--writeimg\", help=\"write out images.\", default=False, action=\"store_true\")\r\n",
        "    parser.add_argument(\"-D\", \"--debug\",\r\n",
        "                        help=\"can be set to 'print' or None (or 'plot' if in jupyter) prints intermediate images.\",\r\n",
        "                        default=None)\r\n",
        "    args = parser.parse_args()\r\n",
        "    return args\r\n",
        "\r\n",
        "#### Start of the Main/Customizable portion of the workflow.\r\n",
        "\r\n",
        "### Main workflow\r\n",
        "def main():\r\n",
        "    # Get options\r\n",
        "    args = options()\r\n",
        "\r\n",
        "    pcv.params.debug=args.debug #set debug mode\r\n",
        "    pcv.params.debug_outdir='content/output' #set output directory\r\n",
        "\r\n",
        "    # Read image (readimage mode defaults to native but if image is RGBA then specify mode='rgb')\r\n",
        "    # Inputs:\r\n",
        "    #   filename - Image file to be read in \r\n",
        "    #   mode     - Return mode of image; either 'native' (default), 'rgb', 'gray', 'envi', or 'csv'\r\n",
        "    spectral_array = pcv.readimage(filename='/content/image/mango.png', mode='rgb')\r\n",
        "\r\n",
        "    filename = spectral_array.filename\r\n",
        "\r\n",
        "    # Save the pseudo-rgb image that gets created while reading in hyperspectral data\r\n",
        "    pcv.print_image(img=spectral_array.pseudo_rgb, filename=filename + \"_pseudo-rgb.png\")\r\n",
        "\r\n",
        "    # Extract the Green Difference Vegetation Index from the datacube \r\n",
        "    index_array_gdvi  = pcv.spectral_index.gdvi(hsi=spectral_array, distance=20)\r\n",
        "\r\n",
        "    # Threshold the grayscale image \r\n",
        "    gdvi_thresh = pcv.threshold.binary(gray_img=index_array_gdvi.array_data, threshold=150, max_value=255)\r\n",
        "\r\n",
        "    # Define ROI \r\n",
        "    roi, roi_hierarchy= pcv.roi.rectangle(img=gdvi_thresh, x=500, y=500, h=300, w=300)\r\n",
        "\r\n",
        "    # Find Objects \r\n",
        "    id_objects, obj_hierarchy = pcv.find_objects(img=index_array_gdvi.array_data, mask=gdvi_thresh)\r\n",
        "\r\n",
        "    # Filter object by a defined region of interest \r\n",
        "    roi_objects, hierarchy, kept_mask, obj_area = pcv.roi_objects(img=index_array_gdvi.array_data, roi_contour=roi, \r\n",
        "                                                                  roi_hierarchy=roi_hierarchy, \r\n",
        "                                                                  object_contour=id_objects, \r\n",
        "                                                                  obj_hierarchy=obj_hierarchy,\r\n",
        "                                                                  roi_type='partial')\r\n",
        "\r\n",
        "    # Apply the mask of the leaf to the entire datacube, and store it where the datacube is stored.\r\n",
        "    spectral_array.array_data = pcv.apply_mask(rgb_img=spectral_array.array_data, mask=kept_mask, mask_color=\"black\")\r\n",
        "\r\n",
        "    # Extract reflectance intensity data and store it out to the Outputs class. \r\n",
        "    analysis_img = pcv.hyperspectral.analyze_spectral(array=spectral_array, mask=kept_mask, histplot=True)\r\n",
        "\r\n",
        "    # Extract statistics about an index for the leaf region \r\n",
        "    pcv.hyperspectral.analyze_index(array=index_array_gdvi, mask=kept_mask)\r\n",
        "\r\n",
        "    # Write shape and color data to results file\r\n",
        "    pcv.print_results(filename=args.result)\r\n",
        "\r\n",
        "if __name__ == '__main__':\r\n",
        "    main()"
      ],
      "execution_count": null,
      "outputs": [
        {
          "output_type": "stream",
          "text": [
            "usage: ipykernel_launcher.py [-h] -i IMAGE [-o OUTDIR] [-r RESULT] [-w]\n",
            "                             [-D DEBUG]\n",
            "ipykernel_launcher.py: error: the following arguments are required: -i/--image\n"
          ],
          "name": "stderr"
        },
        {
          "output_type": "error",
          "ename": "SystemExit",
          "evalue": "ignored",
          "traceback": [
            "An exception has occurred, use %tb to see the full traceback.\n",
            "\u001b[0;31mSystemExit\u001b[0m\u001b[0;31m:\u001b[0m 2\n"
          ]
        },
        {
          "output_type": "stream",
          "text": [
            "/usr/local/lib/python3.6/dist-packages/IPython/core/interactiveshell.py:2890: UserWarning: To exit: use 'exit', 'quit', or Ctrl-D.\n",
            "  warn(\"To exit: use 'exit', 'quit', or Ctrl-D.\", stacklevel=1)\n"
          ],
          "name": "stderr"
        }
      ]
    },
    {
      "cell_type": "code",
      "metadata": {
        "id": "J8JM3qO-L5Ma"
      },
      "source": [
        ""
      ],
      "execution_count": null,
      "outputs": []
    }
  ]
}